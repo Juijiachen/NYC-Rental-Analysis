{
 "cells": [
  {
   "cell_type": "markdown",
   "id": "d4c5a136-e872-4846-9965-9ddc5251a0b3",
   "metadata": {},
   "source": [
    "# NYC Apartment Search\n",
    "\n",
    "_[Project prompt](https://docs.google.com/document/d/1BYVyFBDcTywdUlanH0ysfOrNWPgl7UkqXA7NeewTzxA/edit#heading=h.bpxu7uvknnbk)_\n",
    "\n",
    "_This scaffolding notebook may be used to help setup your final project. It's **totally optional** whether you make use of this or not._\n",
    "\n",
    "_If you do use this notebook, everything provided is optional as well - you may remove or add code as you wish._\n",
    "\n",
    "_**All code below should be consider \"pseudo-code\" - not functional by itself, and only an idea of a possible approach.**_"
   ]
  },
  {
   "cell_type": "markdown",
   "id": "bdf11fa0-4684-4f5e-8048-0f4cc5f4f243",
   "metadata": {},
   "source": [
    "## Setup"
   ]
  },
  {
   "cell_type": "code",
   "execution_count": 3,
   "id": "0f675d4b-794e-407c-aac9-b85c4a3975d2",
   "metadata": {},
   "outputs": [],
   "source": [
    "# All import statements needed for the project, for example:\n",
    "\n",
    "import json\n",
    "import pathlib\n",
    "import urllib.parse\n",
    "\n",
    "import geoalchemy2 as gdb\n",
    "import geopandas as gpd\n",
    "import matplotlib.pyplot as plt\n",
    "import pandas as pd\n",
    "import requests\n",
    "import shapely\n",
    "\n",
    "from sqlalchemy import *\n",
    "from sqlalchemy.ext.declarative import declarative_base\n",
    "from sqlalchemy.orm import sessionmaker"
   ]
  },
  {
   "cell_type": "code",
   "execution_count": 90,
   "id": "70a62277-51cf-48a2-81d2-9b2127088a7e",
   "metadata": {},
   "outputs": [],
   "source": [
    "# Any constants you might need; some have been added for you\n",
    "\n",
    "# Where data files will be read from/written to - this should already exist\n",
    "DATA_DIR = pathlib.Path(\"data\")\n",
    "ZIPCODE_DATA_FILE = \"/Users/chenruijia/Desktop/AnalyticsTools/NYC-Rental-Analysis/data/drive-download-20231124T164450Z-001/nyc_zipcodes.shp\"\n",
    "ZILLOW_DATA_FILE = DATA_DIR / \"zillow_rent_data.csv\"\n",
    "\n",
    "NYC_DATA_APP_TOKEN = \"IxFjBjShI6cenJ0NOVZ1rnj0W\"\n",
    "BASE_NYC_DATA_URL = \"https://data.cityofnewyork.us/\"\n",
    "NYC_DATA_311 = \"erm2-nwe9.geojson\"\n",
    "NYC_DATA_TREES = \"5rq2-4hqu.geojson\"\n",
    "\n",
    "DB_NAME = \"group14project\"\n",
    "DB_USER = \"chenruijia\"\n",
    "DB_URL = f\"postgres+psycopg2://{DB_USER}@localhost/{DB_NAME}\"\n",
    "DB_SCHEMA_FILE = \"schema.sql\"\n",
    "# directory where DB queries for Part 3 will be saved\n",
    "QUERY_DIR = pathlib.Path(\"queries\")"
   ]
  },
  {
   "cell_type": "code",
   "execution_count": 91,
   "id": "cd67cca9-ec72-44e3-83b8-b65f1ed5bb2f",
   "metadata": {},
   "outputs": [],
   "source": [
    "# Make sure the QUERY_DIRECTORY exists\n",
    "if not QUERY_DIR.exists():\n",
    "    QUERY_DIR.mkdir()"
   ]
  },
  {
   "cell_type": "markdown",
   "id": "52476a07-9bf2-4b7a-8cb7-93648bb4d303",
   "metadata": {},
   "source": [
    "## Part 1: Data Preprocessing"
   ]
  },
  {
   "cell_type": "code",
   "execution_count": 4,
   "id": "63b18f12-c0ce-4b9c-adc1-805703edc575",
   "metadata": {},
   "outputs": [],
   "source": [
    "def download_nyc_geojson_data(url, force=False):\n",
    "    parsed_url = urllib.parse.urlparse(url)\n",
    "    url_path = parsed_url.path.strip(\"/\")\n",
    "    \n",
    "    filename = DATA_DIR / url_path\n",
    "    \n",
    "    if force or not filename.exists():\n",
    "        print(f\"Downloading {url} to {filename}...\")\n",
    "        \n",
    "        ...\n",
    "        \n",
    "        with open(filename, \"w\") as f:\n",
    "            json.dump(..., f)\n",
    "        print(f\"Done downloading {url}.\")\n",
    "\n",
    "    else:\n",
    "        print(f\"Reading from {filename}...\")\n",
    "\n",
    "    return filename"
   ]
  },
  {
   "cell_type": "code",
   "execution_count": 5,
   "id": "ee245240-2fbb-45b8-9a92-4e2368f62c60",
   "metadata": {},
   "outputs": [],
   "source": [
    "import geopandas as gpd\n",
    "import pyproj\n",
    "from functools import partial\n",
    "from shapely.ops import transform\n",
    "from shapely.geometry import Polygon\n",
    "\n",
    "# Assuming the primary .shp file is 'nyc_zipcodes.shp' and it's in the same directory with other related files\n",
    "shapefile_path = 'data/drive-download-20231124T164450Z-001/nyc_zipcodes.shp'\n",
    "\n",
    "\n",
    "def load_and_clean_zipcodes(shapefile_path):\n",
    "    # Reading the shapefile\n",
    "    geodf_zipcode = gpd.read_file(shapefile_path)\n",
    "\n",
    "    # Filter out non-Polygon geometries\n",
    "    geodf_zipcode = geodf_zipcode[geodf_zipcode['geometry'].apply(lambda geom: isinstance(geom, Polygon))]\n",
    "\n",
    "    # Filter by ZIPCODE pattern (New York City zip codes starting with '1')\n",
    "    geodf_zipcode = geodf_zipcode[geodf_zipcode['ZIPCODE'].astype(str).str.match(r'^1\\d{4}$')]\n",
    "    \n",
    "    # Defining the coordinate reference systems\n",
    "    current_srid = 'EPSG:2263'  # NAD83 / New York Long Island (ftUS)\n",
    "    desired_srid = 'EPSG:4326'  # WGS 84\n",
    "\n",
    "    # Updating to use pyproj.Transformer\n",
    "    transformer = pyproj.Transformer.from_crs(current_srid, desired_srid, always_xy=True)\n",
    "\n",
    "    # Applying the transformation\n",
    "    geodf_zipcode['geometry'] = geodf_zipcode['geometry'].apply(lambda geom: transform(transformer.transform, geom))\n",
    "\n",
    "    return geodf_zipcode\n",
    "\n",
    "\n",
    " \n"
   ]
  },
  {
   "cell_type": "code",
   "execution_count": 6,
   "id": "eed2a5a9-1027-4c41-bbb5-039c32ce7e9b",
   "metadata": {},
   "outputs": [],
   "source": [
    "from concurrent.futures import ThreadPoolExecutor, as_completed\n",
    "from tqdm import tqdm\n",
    "def download_and_clean_311_data():\n",
    "    def fetch_data(offset, limit):\n",
    "        api_endpoint = f\"{base_api_endpoint}?{soql_query}&$select={columns}&$limit={limit}&$offset={offset}\"\n",
    "        response = requests.get(api_endpoint, headers=headers)\n",
    "        if response.status_code == 200:\n",
    "            return response.json()\n",
    "        else:\n",
    "            return []\n",
    "    base_api_endpoint = 'https://data.cityofnewyork.us/resource/erm2-nwe9.json'\n",
    "    columns = 'unique_key,created_date,closed_date,complaint_type,incident_zip,latitude,longitude'\n",
    "    start_date = '2015-01-01T00:00:00'\n",
    "    end_date = '2023-09-30T23:59:59'\n",
    "    headers = {'X-App-Token': NYC_DATA_APP_TOKEN}\n",
    "    soql_query = f\"$where=created_date between '{start_date}' and '{end_date}'\"\n",
    "    limit = 200000\n",
    "    all_data = []\n",
    "    offset = 0\n",
    "    more_data = True\n",
    "\n",
    "    while more_data:\n",
    "        with ThreadPoolExecutor(max_workers=10) as executor:\n",
    "\n",
    "            futures = [executor.submit(fetch_data, off, limit) for off in range(offset, offset + 10 * limit, limit)]\n",
    "    \n",
    "            for future in tqdm(as_completed(futures), total=len(futures), desc=\"Fetching Data\"):\n",
    "                data = future.result()\n",
    "                if data:\n",
    "                    all_data.extend(data)\n",
    "                    print(f\"Retrieved records up to offset {offset + limit}...\")\n",
    "                else:\n",
    "                    more_data = False\n",
    "\n",
    "            offset += 10 * limit\n",
    "    \n",
    "    nyc_311_data = pd.DataFrame(all_data)\n",
    "    nyc_311_data['created_date'] = pd.to_datetime(nyc_311_data['created_date'], format='%Y-%m-%dT%H:%M:%S.%f', errors='coerce')\n",
    "    nyc_311_data['closed_date'] = pd.to_datetime(nyc_311_data['closed_date'], format='%Y-%m-%dT%H:%M:%S.%f',errors='coerce')\n",
    "    nyc_311_data = nyc_311_data.dropna(subset=['created_date', 'closed_date'])\n",
    "\n",
    "    return nyc_311_data\n",
    " "
   ]
  },
  {
   "cell_type": "code",
   "execution_count": null,
   "id": "646e60cd",
   "metadata": {},
   "outputs": [],
   "source": [
    "nyc_311_data = download_and_clean_311_data()"
   ]
  },
  {
   "cell_type": "code",
   "execution_count": 35,
   "id": "39c4b1bc-c841-4b87-8301-1dc2cafeccc7",
   "metadata": {},
   "outputs": [],
   "source": [
    "def download_and_clean_tree_data():\n",
    "    base_api_endpoint = 'https://data.cityofnewyork.us/resource/5rq2-4hqu.json' \n",
    "    columns = 'tree_id,latitude,longitude,status,health,spc_common,zipcode'\n",
    "    \n",
    "    headers = {\n",
    "        'X-App-Token': NYC_DATA_APP_TOKEN\n",
    "    }\n",
    "    \n",
    "    limit = 50000   \n",
    "    offset = 0\n",
    "    all_data = []\n",
    "\n",
    "    while True:\n",
    "        api_endpoint = f\"{base_api_endpoint}?$select={columns}&$limit={limit}&$offset={offset}\"\n",
    "        response = requests.get(api_endpoint, headers=headers)\n",
    "        \n",
    "        if response.status_code == 200:\n",
    "            page_data = response.json()\n",
    "    \n",
    "            if not page_data:\n",
    "                break\n",
    "            all_data.extend(page_data)\n",
    "            offset += limit\n",
    "            print(f\"Retrieved {offset} records so far...\")\n",
    "        else:\n",
    "            print(\"Failed to retrieve data:\", response.status_code)\n",
    "            break\n",
    "    \n",
    "    geodf_tree_data = pd.DataFrame(all_data)\n",
    "    geodf_tree_data.dropna(subset=['tree_id', 'latitude', 'longitude', 'status', 'health', 'spc_common', 'zipcode'], inplace=True)\n",
    "    return geodf_tree_data"
   ]
  },
  {
   "cell_type": "code",
   "execution_count": 34,
   "id": "747ff49f-a18b-4fc0-8da6-6834a10d11ce",
   "metadata": {},
   "outputs": [],
   "source": [
    "def load_and_clean_zillow_data():\n",
    "    zillow_rent_data = pd.read_csv('data/drive-download-20231124T164450Z-001/zillow_rent_data.csv')\n",
    "\n",
    "    \n",
    "    nyc_zip_codes = zillow_rent_data[zillow_rent_data['RegionName'].astype(str).str.match(r'^1\\d{4}$')]\n",
    "\n",
    "    columns_to_delete = [\"RegionID\", \"SizeRank\", \"RegionType\", \"StateName\", \"State\", \"City\", \"Metro\", \"CountyName\"]\n",
    "    df = nyc_zip_codes.drop(columns=columns_to_delete)\n",
    "\n",
    "    df_long = df.melt(id_vars=[\"RegionName\"], \n",
    "                    var_name=\"Date\", \n",
    "                    value_name=\"RentPrice\")\n",
    "\n",
    "\n",
    "    df_long['Date'] = pd.to_datetime(df_long['Date'])\n",
    "\n",
    "    df_long = df_long.sort_values(by=['RegionName', 'Date'])\n",
    "\n",
    "    \n",
    "    df_long['RentPrice'] = df_long.groupby('RegionName')['RentPrice'].ffill()\n",
    "    df_long['RentPrice'] = df_long.groupby('RegionName')['RentPrice'].bfill()\n",
    "    df_long['RentPrice'] = df_long.groupby('RegionName')['RentPrice'].ffill().bfill().interpolate(method='linear')\n",
    "\n",
    "    zillow_data = pd.DataFrame(df_long)\n",
    "    return zillow_data\n",
    "\n",
    " "
   ]
  },
  {
   "cell_type": "code",
   "execution_count": 31,
   "id": "345ebc2c-14f1-490c-9857-11f1e332e3bc",
   "metadata": {},
   "outputs": [],
   "source": [
    "def load_all_data():\n",
    "    geodf_zipcode_data = load_and_clean_zipcodes(ZIPCODE_DATA_FILE)\n",
    "    geodf_311_data = download_and_clean_311_data()\n",
    "    geodf_tree_data = download_and_clean_tree_data()\n",
    "    df_zillow_data = load_and_clean_zillow_data()\n",
    "    return (\n",
    "        geodf_zipcode_data,\n",
    "        geodf_311_data,\n",
    "        geodf_tree_data,\n",
    "        df_zillow_data\n",
    "    )\n"
   ]
  },
  {
   "cell_type": "code",
   "execution_count": null,
   "id": "60da57f0",
   "metadata": {},
   "outputs": [],
   "source": [
    "geodf_zipcode_data, geodf_311_data, geodf_tree_data, df_zillow_data = load_all_data()"
   ]
  },
  {
   "cell_type": "code",
   "execution_count": null,
   "id": "23ad8bbc-bf91-457e-97db-a945fabeee29",
   "metadata": {},
   "outputs": [],
   "source": [
    "# Show basic info about each dataframe\n",
    "geodf_zipcode_data.info()\n"
   ]
  },
  {
   "cell_type": "code",
   "execution_count": null,
   "id": "ec68f4be-f365-46c1-91a1-ab75deb75ff4",
   "metadata": {},
   "outputs": [],
   "source": [
    "# Show first 5 entries about each dataframe\n",
    "geodf_zipcode_data.head()"
   ]
  },
  {
   "cell_type": "code",
   "execution_count": null,
   "id": "6a803b68-2f07-44b8-8b24-d4f16c9e03fe",
   "metadata": {},
   "outputs": [],
   "source": [
    "geodf_311_data.info()"
   ]
  },
  {
   "cell_type": "code",
   "execution_count": null,
   "id": "14705df9-ea77-4d57-ac8e-1845f80a216d",
   "metadata": {},
   "outputs": [],
   "source": [
    "geodf_311_data.head()"
   ]
  },
  {
   "cell_type": "code",
   "execution_count": null,
   "id": "e6006cd2-3a00-4660-8d2a-a660b9bfd91e",
   "metadata": {},
   "outputs": [],
   "source": [
    "geodf_tree_data.info()"
   ]
  },
  {
   "cell_type": "code",
   "execution_count": null,
   "id": "07f880ef-c5fc-4159-8174-21ccd44f492d",
   "metadata": {},
   "outputs": [
    {
     "data": {
      "text/html": [
       "<div>\n",
       "<style scoped>\n",
       "    .dataframe tbody tr th:only-of-type {\n",
       "        vertical-align: middle;\n",
       "    }\n",
       "\n",
       "    .dataframe tbody tr th {\n",
       "        vertical-align: top;\n",
       "    }\n",
       "\n",
       "    .dataframe thead th {\n",
       "        text-align: right;\n",
       "    }\n",
       "</style>\n",
       "<table border=\"1\" class=\"dataframe\">\n",
       "  <thead>\n",
       "    <tr style=\"text-align: right;\">\n",
       "      <th></th>\n",
       "      <th>tree_id</th>\n",
       "      <th>latitude</th>\n",
       "      <th>longitude</th>\n",
       "      <th>status</th>\n",
       "      <th>health</th>\n",
       "      <th>spc_common</th>\n",
       "      <th>zipcode</th>\n",
       "    </tr>\n",
       "  </thead>\n",
       "  <tbody>\n",
       "    <tr>\n",
       "      <th>0</th>\n",
       "      <td>180683</td>\n",
       "      <td>40.72309177</td>\n",
       "      <td>-73.84421522</td>\n",
       "      <td>Alive</td>\n",
       "      <td>Fair</td>\n",
       "      <td>red maple</td>\n",
       "      <td>11375</td>\n",
       "    </tr>\n",
       "    <tr>\n",
       "      <th>1</th>\n",
       "      <td>200540</td>\n",
       "      <td>40.79411067</td>\n",
       "      <td>-73.81867946</td>\n",
       "      <td>Alive</td>\n",
       "      <td>Fair</td>\n",
       "      <td>pin oak</td>\n",
       "      <td>11357</td>\n",
       "    </tr>\n",
       "    <tr>\n",
       "      <th>2</th>\n",
       "      <td>204026</td>\n",
       "      <td>40.71758074</td>\n",
       "      <td>-73.9366077</td>\n",
       "      <td>Alive</td>\n",
       "      <td>Good</td>\n",
       "      <td>honeylocust</td>\n",
       "      <td>11211</td>\n",
       "    </tr>\n",
       "    <tr>\n",
       "      <th>3</th>\n",
       "      <td>204337</td>\n",
       "      <td>40.71353749</td>\n",
       "      <td>-73.93445616</td>\n",
       "      <td>Alive</td>\n",
       "      <td>Good</td>\n",
       "      <td>honeylocust</td>\n",
       "      <td>11211</td>\n",
       "    </tr>\n",
       "    <tr>\n",
       "      <th>4</th>\n",
       "      <td>189565</td>\n",
       "      <td>40.66677776</td>\n",
       "      <td>-73.97597938</td>\n",
       "      <td>Alive</td>\n",
       "      <td>Good</td>\n",
       "      <td>American linden</td>\n",
       "      <td>11215</td>\n",
       "    </tr>\n",
       "  </tbody>\n",
       "</table>\n",
       "</div>"
      ],
      "text/plain": [
       "  tree_id     latitude     longitude status health       spc_common zipcode\n",
       "0  180683  40.72309177  -73.84421522  Alive   Fair        red maple   11375\n",
       "1  200540  40.79411067  -73.81867946  Alive   Fair          pin oak   11357\n",
       "2  204026  40.71758074   -73.9366077  Alive   Good      honeylocust   11211\n",
       "3  204337  40.71353749  -73.93445616  Alive   Good      honeylocust   11211\n",
       "4  189565  40.66677776  -73.97597938  Alive   Good  American linden   11215"
      ]
     },
     "execution_count": 22,
     "metadata": {},
     "output_type": "execute_result"
    }
   ],
   "source": [
    "geodf_tree_data.head()"
   ]
  },
  {
   "cell_type": "code",
   "execution_count": null,
   "id": "59724f74-5f1e-435c-b843-f381a875dd4a",
   "metadata": {},
   "outputs": [],
   "source": [
    "df_zillow_data.info()"
   ]
  },
  {
   "cell_type": "code",
   "execution_count": null,
   "id": "e29ae5d9-9768-4590-a2f2-dd63b07dd712",
   "metadata": {},
   "outputs": [
    {
     "data": {
      "text/html": [
       "<div>\n",
       "<style scoped>\n",
       "    .dataframe tbody tr th:only-of-type {\n",
       "        vertical-align: middle;\n",
       "    }\n",
       "\n",
       "    .dataframe tbody tr th {\n",
       "        vertical-align: top;\n",
       "    }\n",
       "\n",
       "    .dataframe thead th {\n",
       "        text-align: right;\n",
       "    }\n",
       "</style>\n",
       "<table border=\"1\" class=\"dataframe\">\n",
       "  <thead>\n",
       "    <tr style=\"text-align: right;\">\n",
       "      <th></th>\n",
       "      <th>RegionName</th>\n",
       "      <th>Date</th>\n",
       "      <th>RentPrice</th>\n",
       "    </tr>\n",
       "  </thead>\n",
       "  <tbody>\n",
       "    <tr>\n",
       "      <th>311</th>\n",
       "      <td>10001</td>\n",
       "      <td>2015-01-31</td>\n",
       "      <td>3807.657462</td>\n",
       "    </tr>\n",
       "    <tr>\n",
       "      <th>867</th>\n",
       "      <td>10001</td>\n",
       "      <td>2015-02-28</td>\n",
       "      <td>3851.098684</td>\n",
       "    </tr>\n",
       "    <tr>\n",
       "      <th>1423</th>\n",
       "      <td>10001</td>\n",
       "      <td>2015-03-31</td>\n",
       "      <td>3844.716691</td>\n",
       "    </tr>\n",
       "    <tr>\n",
       "      <th>1979</th>\n",
       "      <td>10001</td>\n",
       "      <td>2015-04-30</td>\n",
       "      <td>3906.689196</td>\n",
       "    </tr>\n",
       "    <tr>\n",
       "      <th>2535</th>\n",
       "      <td>10001</td>\n",
       "      <td>2015-05-31</td>\n",
       "      <td>3960.689870</td>\n",
       "    </tr>\n",
       "  </tbody>\n",
       "</table>\n",
       "</div>"
      ],
      "text/plain": [
       "      RegionName       Date    RentPrice\n",
       "311        10001 2015-01-31  3807.657462\n",
       "867        10001 2015-02-28  3851.098684\n",
       "1423       10001 2015-03-31  3844.716691\n",
       "1979       10001 2015-04-30  3906.689196\n",
       "2535       10001 2015-05-31  3960.689870"
      ]
     },
     "execution_count": 24,
     "metadata": {},
     "output_type": "execute_result"
    }
   ],
   "source": [
    "df_zillow_data.head()"
   ]
  },
  {
   "cell_type": "markdown",
   "id": "e685942c-26dc-40db-84c2-a71aa3340806",
   "metadata": {},
   "source": [
    "## Part 2: Storing Data"
   ]
  },
  {
   "cell_type": "code",
   "execution_count": null,
   "id": "f349fbdd-67d0-40a4-97a0-d9b8c8ec8013",
   "metadata": {},
   "outputs": [],
   "source": [
    "def setup_new_postgis_database(username, db_name):\n",
    "    raise NotImplementedError()"
   ]
  },
  {
   "cell_type": "code",
   "execution_count": null,
   "id": "590ed80d-7b60-484f-a123-23b673b0f440",
   "metadata": {},
   "outputs": [],
   "source": [
    "setup_new_postgis_database(DB_USER, DB_NAME)"
   ]
  },
  {
   "cell_type": "markdown",
   "id": "527a251c-f337-4b24-bb41-96ee4621a9bd",
   "metadata": {},
   "source": [
    "### Creating Tables\n",
    "\n",
    "\n",
    "These are just a couple of options to creating your tables; you can use one or the other, a different method, or a combination."
   ]
  },
  {
   "cell_type": "markdown",
   "id": "232a2d89-b276-4d44-a0ef-3631eb686e84",
   "metadata": {},
   "source": [
    "#### Option 2: SQLAlchemy"
   ]
  },
  {
   "cell_type": "code",
   "execution_count": null,
   "id": "6dd36eda",
   "metadata": {},
   "outputs": [],
   "source": [
    "!createdb group14"
   ]
  },
  {
   "cell_type": "code",
   "execution_count": null,
   "id": "f60ad93e",
   "metadata": {},
   "outputs": [],
   "source": [
    "!psql --dbname group14project -c 'CREATE EXTENSION postgis;'"
   ]
  },
  {
   "cell_type": "code",
   "execution_count": 6,
   "id": "fb38b0c3",
   "metadata": {},
   "outputs": [
    {
     "name": "stdout",
     "output_type": "stream",
     "text": [
      "Requirement already satisfied: psycopg2 in /Users/chenruijia/anaconda3/lib/python3.11/site-packages (2.9.9)\n",
      "Requirement already satisfied: sqlalchemy in /Users/chenruijia/anaconda3/lib/python3.11/site-packages (2.0.21)\n",
      "Requirement already satisfied: pandas in /Users/chenruijia/anaconda3/lib/python3.11/site-packages (2.1.1)\n",
      "Requirement already satisfied: geoalchemy2 in /Users/chenruijia/anaconda3/lib/python3.11/site-packages (0.14.2)\n",
      "Requirement already satisfied: typing-extensions>=4.2.0 in /Users/chenruijia/anaconda3/lib/python3.11/site-packages (from sqlalchemy) (4.7.1)\n",
      "Requirement already satisfied: numpy>=1.23.2 in /Users/chenruijia/anaconda3/lib/python3.11/site-packages (from pandas) (1.24.3)\n",
      "Requirement already satisfied: python-dateutil>=2.8.2 in /Users/chenruijia/anaconda3/lib/python3.11/site-packages (from pandas) (2.8.2)\n",
      "Requirement already satisfied: pytz>=2020.1 in /Users/chenruijia/anaconda3/lib/python3.11/site-packages (from pandas) (2023.3.post1)\n",
      "Requirement already satisfied: tzdata>=2022.1 in /Users/chenruijia/anaconda3/lib/python3.11/site-packages (from pandas) (2023.3)\n",
      "Requirement already satisfied: packaging in /Users/chenruijia/anaconda3/lib/python3.11/site-packages (from geoalchemy2) (23.1)\n",
      "Requirement already satisfied: six>=1.5 in /Users/chenruijia/anaconda3/lib/python3.11/site-packages (from python-dateutil>=2.8.2->pandas) (1.16.0)\n"
     ]
    }
   ],
   "source": [
    "!pip install psycopg2\n",
    "!pip install sqlalchemy pandas geoalchemy2\n"
   ]
  },
  {
   "cell_type": "code",
   "execution_count": 7,
   "id": "0cd0874e",
   "metadata": {},
   "outputs": [],
   "source": [
    "from geoalchemy2 import Geometry"
   ]
  },
  {
   "cell_type": "code",
   "execution_count": 4,
   "id": "a47e572c",
   "metadata": {},
   "outputs": [
    {
     "name": "stderr",
     "output_type": "stream",
     "text": [
      "/var/folders/dn/w_0bwtz955bbs9x6hcsffb540000gn/T/ipykernel_30733/1203867692.py:1: MovedIn20Warning: The ``declarative_base()`` function is now available as sqlalchemy.orm.declarative_base(). (deprecated since: 2.0) (Background on SQLAlchemy 2.0 at: https://sqlalche.me/e/b8d9)\n",
      "  Base = declarative_base()\n"
     ]
    }
   ],
   "source": [
    "Base = declarative_base()\n",
    "engine = create_engine('postgresql://chenruijia:@localhost/group14project')"
   ]
  },
  {
   "cell_type": "code",
   "execution_count": 8,
   "id": "d41c42e1-4ad4-4c43-a2ba-1dbcac1de557",
   "metadata": {},
   "outputs": [],
   "source": [
    "\n",
    "# create Geo Zip Code table\n",
    "class GeoZipCode(Base):\n",
    "    __tablename__ = 'geo_zip_codes'\n",
    "    id = Column(Integer, primary_key=True, autoincrement=True, nullable=False)\n",
    "    ZIPCODE = Column(Integer, primary_key=True)\n",
    "    BLDGZIP = Column(String)\n",
    "    PO_NAME = Column(String)\n",
    "    POPULATION = Column(Float)\n",
    "    AREA = Column(Float)\n",
    "    STATE = Column(String)\n",
    "    COUNTY = Column(String)\n",
    "    ST_FIPS = Column(Integer)\n",
    "    CTY_FIPS = Column(Integer)\n",
    "    URL = Column(String)\n",
    "    SHAPE_AREA = Column(Float)\n",
    "    SHAPE_LEN = Column(Float)\n",
    "    geometry = Column(Geometry(geometry_type='POLYGON'))\n",
    "\n",
    "# create Tree Census table\n",
    "class TreeCensus(Base):\n",
    "    __tablename__ = 'tree_censuses'\n",
    "    id = Column(Integer, primary_key=True)\n",
    "    tree_id = Column(Integer, primary_key=True)\n",
    "    latitude = Column(Float)\n",
    "    longitude = Column(Float)\n",
    "    status = Column(String)\n",
    "    health = Column(String)\n",
    "    spc_common = Column(String)\n",
    "    zipcode = Column(Integer)\n",
    "\n",
    "# create Zillow Rent table\n",
    "class ZillowRent(Base):\n",
    "    __tablename__ = 'zillow_rents'\n",
    "    id = Column(Integer, primary_key=True)\n",
    "    RegionName = Column(String, primary_key=True)\n",
    "    Date = Column(Date)\n",
    "    RentPrice = Column(Float)\n",
    "    \n",
    "# create NYC 311 table\n",
    "class NYC311(Base):\n",
    "    __tablename__ = 'nyc_311_services'\n",
    "    id = Column(BigInteger, primary_key=True)\n",
    "    unique_key = Column(VARCHAR(8), unique=True, primary_key=True)\n",
    "    created_date = Column(DateTime(timezone=True))\n",
    "    closed_date = Column(DateTime(timezone=True))\n",
    "    complaint_type = Column(String)\n",
    "    incident_zip = Column(VARCHAR(5))\n",
    "    latitude = Column(Float)\n",
    "    longitude = Column(Float)"
   ]
  },
  {
   "cell_type": "code",
   "execution_count": 9,
   "id": "5b3a9c3d-e6d6-4e01-8247-e9d465381ce6",
   "metadata": {},
   "outputs": [],
   "source": [
    "Base.metadata.create_all(engine)"
   ]
  },
  {
   "cell_type": "code",
   "execution_count": 10,
   "id": "1eb987e3",
   "metadata": {},
   "outputs": [
    {
     "data": {
      "text/plain": [
       "FacadeDict({'geo_zip_codes': Table('geo_zip_codes', MetaData(), Column('id', Integer(), table=<geo_zip_codes>, primary_key=True, nullable=False), Column('ZIPCODE', Integer(), table=<geo_zip_codes>, primary_key=True, nullable=False), Column('BLDGZIP', String(), table=<geo_zip_codes>), Column('PO_NAME', String(), table=<geo_zip_codes>), Column('POPULATION', Float(), table=<geo_zip_codes>), Column('AREA', Float(), table=<geo_zip_codes>), Column('STATE', String(), table=<geo_zip_codes>), Column('COUNTY', String(), table=<geo_zip_codes>), Column('ST_FIPS', Integer(), table=<geo_zip_codes>), Column('CTY_FIPS', Integer(), table=<geo_zip_codes>), Column('URL', String(), table=<geo_zip_codes>), Column('SHAPE_AREA', Float(), table=<geo_zip_codes>), Column('SHAPE_LEN', Float(), table=<geo_zip_codes>), Column('geometry', Geometry(geometry_type='POLYGON', from_text='ST_GeomFromEWKT', name='geometry'), table=<geo_zip_codes>), schema=None), 'tree_censuses': Table('tree_censuses', MetaData(), Column('id', Integer(), table=<tree_censuses>, primary_key=True, nullable=False), Column('tree_id', Integer(), table=<tree_censuses>, primary_key=True, nullable=False), Column('latitude', Float(), table=<tree_censuses>), Column('longitude', Float(), table=<tree_censuses>), Column('status', String(), table=<tree_censuses>), Column('health', String(), table=<tree_censuses>), Column('spc_common', String(), table=<tree_censuses>), Column('zipcode', Integer(), table=<tree_censuses>), schema=None), 'zillow_rents': Table('zillow_rents', MetaData(), Column('id', Integer(), table=<zillow_rents>, primary_key=True, nullable=False), Column('RegionName', String(), table=<zillow_rents>, primary_key=True, nullable=False), Column('Date', Date(), table=<zillow_rents>), Column('RentPrice', Float(), table=<zillow_rents>), schema=None), 'nyc_311_services': Table('nyc_311_services', MetaData(), Column('id', BigInteger(), table=<nyc_311_services>, primary_key=True, nullable=False), Column('unique_key', VARCHAR(length=8), table=<nyc_311_services>, primary_key=True, nullable=False), Column('created_date', DateTime(timezone=True), table=<nyc_311_services>), Column('closed_date', DateTime(timezone=True), table=<nyc_311_services>), Column('complaint_type', String(), table=<nyc_311_services>), Column('incident_zip', VARCHAR(length=5), table=<nyc_311_services>), Column('latitude', Float(), table=<nyc_311_services>), Column('longitude', Float(), table=<nyc_311_services>), schema=None)})"
      ]
     },
     "execution_count": 10,
     "metadata": {},
     "output_type": "execute_result"
    }
   ],
   "source": [
    "Base.metadata.tables"
   ]
  },
  {
   "cell_type": "markdown",
   "id": "2e88a50c-9528-4a5c-9a52-b96781ee8985",
   "metadata": {},
   "source": [
    "### Add Data to Database\n",
    "\n",
    "These are just a couple of options to write data to your tables; you can use one or the other, a different method, or a combination."
   ]
  },
  {
   "cell_type": "markdown",
   "id": "e4708cb4-d034-43b6-955b-a21d0eab74d4",
   "metadata": {},
   "source": [
    "#### Option 2: SQLAlchemy"
   ]
  },
  {
   "cell_type": "code",
   "execution_count": 11,
   "id": "210ddbad-3b11-47a2-9245-935f482fa7ea",
   "metadata": {},
   "outputs": [],
   "source": [
    "Session = sessionmaker(bind=engine)\n",
    "session = Session()"
   ]
  },
  {
   "cell_type": "code",
   "execution_count": 80,
   "id": "db810190",
   "metadata": {},
   "outputs": [],
   "source": [
    "# Insert data into the geo_zip_codes table\n",
    "\n",
    "from geoalchemy2 import WKTElement\n",
    "import shapely.wkt\n",
    "\n",
    "geodf_zipcode = geodf_zipcode[[col for col in geodf_zipcode.columns if col != 'id']]\n",
    "zipcode_data_list = geodf_zipcode.to_dict(orient='records')\n",
    "\n",
    "for data in zipcode_data_list:\n",
    "    geometry_data = data.pop('geometry')\n",
    "\n",
    "    # Convert Shapely geometry to WKT\n",
    "    wkt_representation = shapely.wkt.dumps(geometry_data)\n",
    "    \n",
    "    # Create a GeoAlchemy WKTElement from the WKT representation\n",
    "    wkt_element = WKTElement(wkt_representation, srid=4326)\n",
    "    \n",
    "    # Add the geometry data back to the dictionary\n",
    "    data['geometry'] = wkt_element\n",
    "    \n",
    "    zipcode = GeoZipCode(**data)\n",
    "    session.add(zipcode)\n",
    "session.commit()"
   ]
  },
  {
   "cell_type": "code",
   "execution_count": 79,
   "id": "70313e2a",
   "metadata": {},
   "outputs": [],
   "source": [
    "session.rollback()"
   ]
  },
  {
   "cell_type": "code",
   "execution_count": null,
   "id": "08a03904",
   "metadata": {},
   "outputs": [],
   "source": [
    "# Query the geo_zip_codes table\n",
    "\n",
    "zip_code_rows = session.query(GeoZipCode).all()\n",
    "print(\"Number of rows:\", len(zip_code_rows))\n",
    "for result in zip_code_rows:\n",
    "    print(result.__dict__)"
   ]
  },
  {
   "cell_type": "code",
   "execution_count": null,
   "id": "3f2b21c6-59d9-4bae-8c33-ab4b49ff2b3a",
   "metadata": {},
   "outputs": [],
   "source": [
    "# Insert data into the tree_censuses table\n",
    "\n",
    "geodf_tree_data['id'] = range(len(geodf_tree_data))\n",
    "geodf_tree_data = geodf_tree_data[['id'] + [col for col in geodf_tree_data.columns if col != 'id']]\n",
    "tree_data_list = geodf_tree_data.to_dict(orient='records')\n",
    "\n",
    "for data in tree_data_list:\n",
    "    tree_census = TreeCensus(**data)\n",
    "    session.add(tree_census)\n",
    "\n",
    "session.commit()"
   ]
  },
  {
   "cell_type": "code",
   "execution_count": null,
   "id": "83e4bfb9-4fbc-45fe-8a98-a760a22234f8",
   "metadata": {},
   "outputs": [],
   "source": [
    "# Query the tree_censuses table\n",
    "tree_census_rows = session.query(TreeCensus).all()\n",
    "print(\"Number of rows:\", len(tree_census_rows))\n",
    "for result in tree_census_rows:\n",
    "    print(result.__dict__)"
   ]
  },
  {
   "cell_type": "code",
   "execution_count": null,
   "id": "401addc0",
   "metadata": {},
   "outputs": [],
   "source": [
    "# Insert data into the zillow rent table\n",
    "\n",
    "zillow_rent_data = df_long\n",
    "zillow_rent_data['id'] = range(len(zillow_rent_data))\n",
    "zillow_rent_data = zillow_rent_data[['id'] + [col for col in zillow_rent_data.columns if col != 'id']]\n",
    "zillow_rent_data_list = zillow_rent_data.to_dict(orient='records')\n",
    "\n",
    "for data in zillow_rent_data_list:\n",
    "    zillow_rent = ZillowRent(**data)\n",
    "    session.add(zillow_rent)\n",
    "\n",
    "session.commit()"
   ]
  },
  {
   "cell_type": "code",
   "execution_count": null,
   "id": "03a70641",
   "metadata": {},
   "outputs": [],
   "source": [
    "# Query the zillow_rents table\n",
    "\n",
    "zillow_rent_rows = session.query(ZillowRent).all()\n",
    "print(\"Number of rows:\", len(zillow_rent_rows))\n",
    "for result in zillow_rent_rows:\n",
    "    print(result.__dict__)"
   ]
  },
  {
   "cell_type": "code",
   "execution_count": null,
   "id": "1fdcc757",
   "metadata": {},
   "outputs": [],
   "source": [
    "# Insert data into the nyc_311_services table\n",
    "\n",
    "chunk_size = 10000\n",
    "# Iterate over the DataFrame in chunks\n",
    "for start_idx in range(0, len(nyc_311_data), chunk_size):\n",
    "    end_idx = start_idx + chunk_size\n",
    "    chunk_data = nyc_311_data.iloc[start_idx:end_idx]\n",
    "\n",
    "    for index, row in chunk_data.iterrows():\n",
    "        nyc311 = NYC311(\n",
    "            id = row['id'],\n",
    "            unique_key=row['unique_key'],\n",
    "            created_date=row['created_date'],\n",
    "            closed_date=row['closed_date'],\n",
    "            complaint_type=row['complaint_type'],\n",
    "            incident_zip=row['incident_zip'],\n",
    "            latitude=row['latitude'],\n",
    "            longitude=row['longitude']\n",
    "        )\n",
    "        session.add(nyc311)\n",
    "\n",
    "    session.commit()"
   ]
  },
  {
   "cell_type": "code",
   "execution_count": null,
   "id": "8afbb55a",
   "metadata": {},
   "outputs": [],
   "source": [
    "# Query the tree_censuses table\n",
    "\n",
    "tree_census_rows = session.query(TreeCensus).all()\n",
    "print(\"Number of rows:\", len(tree_census_rows))\n",
    "for result in tree_census_rows:\n",
    "    print(result)"
   ]
  },
  {
   "cell_type": "markdown",
   "id": "eb63b553-0c64-4da8-9fc7-41555d89d853",
   "metadata": {},
   "source": [
    "## Part 3: Understanding the Data"
   ]
  },
  {
   "cell_type": "markdown",
   "id": "7ac7e12b-e251-4f08-8dc5-601db30c2089",
   "metadata": {},
   "source": [
    "### Query 1"
   ]
  },
  {
   "cell_type": "code",
   "execution_count": 95,
   "id": "d6ce8548-4aba-4bf9-992c-dedd0f249db4",
   "metadata": {},
   "outputs": [],
   "source": [
    "# Helper function to write the queries to file\n",
    "def write_query_to_file(query, outfile):\n",
    "    with open(outfile, \"w\") as f:\n",
    "        f.write(query)"
   ]
  },
  {
   "cell_type": "code",
   "execution_count": 96,
   "id": "6605e6f3-ec42-4a8b-833c-5138c14b678b",
   "metadata": {},
   "outputs": [],
   "source": [
    "QUERY_1_FILENAME = QUERY_DIR / \"query_1.sql\"\n",
    "\n",
    "QUERY_1 = \"\"\"\n",
    "    SELECT incident_zip, COUNT(*) AS num_complaints\n",
    "    FROM nyc_311_services\n",
    "    WHERE created_date >= '2022-10-01' AND created_date <= '2023-09-30'\n",
    "    GROUP BY incident_zip\n",
    "    ORDER BY num_complaints DESC;\n",
    "\"\"\""
   ]
  },
  {
   "cell_type": "code",
   "execution_count": 97,
   "id": "4b7b2c3d-8961-4c7e-8eb1-fc973d0ab9c1",
   "metadata": {},
   "outputs": [],
   "source": [
    "write_query_to_file(QUERY_1, QUERY_1_FILENAME)"
   ]
  },
  {
   "cell_type": "markdown",
   "id": "890f1e42",
   "metadata": {},
   "source": [
    "### Query 2"
   ]
  },
  {
   "cell_type": "code",
   "execution_count": null,
   "id": "47c1c9b9",
   "metadata": {},
   "outputs": [],
   "source": [
    "def write_query_to_file(query, outfile):\n",
    "    with open(outfile, 'w') as file:\n",
    "        file.write(query)"
   ]
  },
  {
   "cell_type": "code",
   "execution_count": null,
   "id": "8e7b2957",
   "metadata": {},
   "outputs": [],
   "source": [
    "import os\n",
    "QUERY_2_FILENAME = os.path.join(QUERY_DIR, \"most_greenery.sql\")\n",
    "\n",
    "QUERY_2 = \"\"\"\n",
    "    SELECT zipcode, COUNT(*) as total_trees\n",
    "    FROM tree_censuses\n",
    "    GROUP BY zipcode\n",
    "    ORDER BY total_trees DESC\n",
    "    LIMIT 10;\n",
    "\"\"\""
   ]
  },
  {
   "cell_type": "code",
   "execution_count": null,
   "id": "307101e9",
   "metadata": {},
   "outputs": [],
   "source": [
    "import sqlalchemy as db\n",
    "from sqlalchemy import create_engine, text\n",
    "sql_query = text(QUERY_2)\n",
    "with engine.connect() as conn:\n",
    "    result = conn.execute(sql_query)\n",
    "    rows = result.fetchall()   \n",
    "    if not rows:\n",
    "        print(\"No data found.\")\n",
    "    else:\n",
    "        print(\"Top 10 Zip Codes with Most Trees:\")\n",
    "        for row in rows:\n",
    "            if len(row) != 2:\n",
    "                print(f\"Unexpected row format: {row}\")\n",
    "                continue  \n",
    "            zipcode, total_trees = row\n",
    "            print(f\"Zip Code: {zipcode}, Total Trees: {total_trees}\")"
   ]
  },
  {
   "cell_type": "code",
   "execution_count": null,
   "id": "8106aacd",
   "metadata": {},
   "outputs": [],
   "source": [
    "write_query_to_file(QUERY_2, QUERY_2_FILENAME)"
   ]
  },
  {
   "cell_type": "markdown",
   "id": "7c5756ec",
   "metadata": {},
   "source": [
    "### Query 3"
   ]
  },
  {
   "cell_type": "code",
   "execution_count": null,
   "id": "208234b1",
   "metadata": {},
   "outputs": [],
   "source": [
    "def write_query_to_file(query, outfile):\n",
    "    with open(outfile, 'w') as file:\n",
    "        file.write(query)"
   ]
  },
  {
   "cell_type": "code",
   "execution_count": null,
   "id": "32e72063",
   "metadata": {},
   "outputs": [],
   "source": [
    "QUERY_3_FILENAME = QUERY_DIR / \"rent_for_most_trees.sql\"\n",
    "\n",
    "QUERY_3 = \"\"\"\n",
    "     SELECT \"RentPrice\"\n",
    "     FROM zillow_rents\n",
    "     WHERE \"RegionName\" = :zipcode AND \"Date\" = '2023-08-31'\n",
    "\"\"\"\n",
    "\n",
    "sql_query = \"\"\"\n",
    "    SELECT zipcode, COUNT(*) as total_trees\n",
    "    FROM tree_censuses\n",
    "    GROUP BY zipcode\n",
    "    ORDER BY total_trees DESC\n",
    "    LIMIT 10;\n",
    "\"\"\"\n",
    "\n",
    "QUERY_3_text = text(QUERY_3)\n",
    "sql_query_text = text(sql_query)"
   ]
  },
  {
   "cell_type": "code",
   "execution_count": null,
   "id": "4f8046cf",
   "metadata": {},
   "outputs": [],
   "source": [
    "with engine.connect() as  connection:\n",
    "    tree_result = connection.execute(sql_query_text)\n",
    "    print(\"Top 10 Zip Codes with Most Trees and Their Rent for August 31, 2023:\")\n",
    "\n",
    "    for row in tree_result:\n",
    "        zipcode, total_trees = row[0], row[1]\n",
    "\n",
    "        rent_result = connection.execute(QUERY_3_text, {'zipcode': str(zipcode)})\n",
    "        rent_row = rent_result.fetchone()\n",
    "        formatted_rent_price = \"{:,.2f}\".format(rent_row[0])\n",
    "\n",
    "        print(f\"Zip Code: {zipcode}, Rent Price on 2023-08-31: ${formatted_rent_price}\")"
   ]
  },
  {
   "cell_type": "code",
   "execution_count": null,
   "id": "4d0017dd",
   "metadata": {},
   "outputs": [],
   "source": [
    "write_query_to_file(QUERY_3, QUERY_3_FILENAME)"
   ]
  },
  {
   "cell_type": "markdown",
   "id": "20bf5c00",
   "metadata": {},
   "source": [
    "### Query 4"
   ]
  },
  {
   "cell_type": "code",
   "execution_count": 100,
   "id": "2e99590b",
   "metadata": {},
   "outputs": [],
   "source": [
    "QUERY_4_FILENAME = QUERY_DIR / \"query_4.sql\"\n",
    "\n",
    "QUERY_4 = \"\"\"\n",
    "    (\n",
    "    SELECT \n",
    "        z.\"RegionName\" AS zipcode, \n",
    "        to_char(AVG(z.\"RentPrice\"), 'FM9999,999.00') AS average_rent, \n",
    "        COALESCE((\n",
    "            SELECT COUNT(*)\n",
    "            FROM tree_censuses tc\n",
    "            WHERE tc.zipcode::text = z.\"RegionName\"\n",
    "        ), 0) AS tree_count, \n",
    "        COALESCE((\n",
    "            SELECT COUNT(*)\n",
    "            FROM nyc_311_services nyc\n",
    "            WHERE nyc.incident_zip = z.\"RegionName\" \n",
    "            AND to_char(nyc.created_date, 'YYYY-MM') = '2023-01'\n",
    "        ), 0) AS complaint_count\n",
    "    FROM \n",
    "        zillow_rents z\n",
    "    WHERE \n",
    "        to_char(z.\"Date\", 'YYYY-MM') = '2023-01'\n",
    "    GROUP BY \n",
    "        z.\"RegionName\"\n",
    "    ORDER BY \n",
    "        AVG(z.\"RentPrice\")\n",
    "    LIMIT 5\n",
    ")\n",
    "UNION ALL\n",
    "(\n",
    "    SELECT \n",
    "        z.\"RegionName\" AS zipcode, \n",
    "        to_char(AVG(z.\"RentPrice\"), 'FM9999,999.00') AS average_rent, \n",
    "        COALESCE((\n",
    "            SELECT COUNT(*)\n",
    "            FROM tree_censuses tc\n",
    "            WHERE tc.zipcode::text = z.\"RegionName\"\n",
    "        ), 0) AS tree_count, \n",
    "        COALESCE((\n",
    "            SELECT COUNT(*)\n",
    "            FROM nyc_311_services nyc\n",
    "            WHERE nyc.incident_zip = z.\"RegionName\" \n",
    "            AND to_char(nyc.created_date, 'YYYY-MM') = '2023-01'\n",
    "        ), 0) AS complaint_count\n",
    "    FROM \n",
    "        zillow_rents z\n",
    "    WHERE \n",
    "        to_char(z.\"Date\", 'YYYY-MM') = '2023-01'\n",
    "    GROUP BY \n",
    "        z.\"RegionName\"\n",
    "    ORDER BY \n",
    "        AVG(z.\"RentPrice\") DESC\n",
    "    LIMIT 5\n",
    ")\n",
    "ORDER BY \n",
    "    average_rent DESC;\n",
    "    \n",
    "\"\"\""
   ]
  },
  {
   "cell_type": "code",
   "execution_count": 101,
   "id": "dc795a00",
   "metadata": {},
   "outputs": [],
   "source": [
    "write_query_to_file(QUERY_4, QUERY_4_FILENAME)"
   ]
  },
  {
   "cell_type": "markdown",
   "id": "f916b2fa",
   "metadata": {},
   "source": [
    "### Query 5"
   ]
  },
  {
   "cell_type": "code",
   "execution_count": null,
   "id": "cc58b551",
   "metadata": {},
   "outputs": [],
   "source": [
    "def write_query_to_file(query, outfile):\n",
    "    with open(outfile, 'w') as file:\n",
    "        file.write(query)"
   ]
  },
  {
   "cell_type": "code",
   "execution_count": null,
   "id": "aac622fa",
   "metadata": {},
   "outputs": [],
   "source": [
    "QUERY_5_FILENAME = QUERY_DIR / \"most_greenery_using_zipcode.sql\"\n",
    "QUERY_5 =\"\"\"\n",
    "    SELECT tc.zipcode, COUNT(DISTINCT tc.id) as total_trees\n",
    "    FROM tree_censuses tc\n",
    "    JOIN geo_zip_codes gzc\n",
    "    ON ST_Within(ST_SetSRID(ST_Point(tc.longitude, tc.latitude), 4326), gzc.geometry)\n",
    "    GROUP BY tc.zipcode\n",
    "    ORDER BY total_trees DESC\n",
    "    LIMIT 10;\n",
    "\"\"\"\n",
    "\n",
    "QUERY_5_text = text(QUERY_5)\n"
   ]
  },
  {
   "cell_type": "code",
   "execution_count": null,
   "id": "37557ff3",
   "metadata": {},
   "outputs": [],
   "source": [
    "with engine.connect() as connection:\n",
    "    result = connection.execute(QUERY_5_text)\n",
    "    print(\"Top 10 Zip Codes with Most Trees:\")\n",
    "    for row in result:\n",
    "        zipcode, total_trees = row[0], row[1]\n",
    "        print(f\"Zip Code: {zipcode}, Total Trees: {total_trees}\")"
   ]
  },
  {
   "cell_type": "code",
   "execution_count": null,
   "id": "fc6aacd7",
   "metadata": {},
   "outputs": [],
   "source": [
    "write_query_to_file(QUERY_5, QUERY_5_FILENAME)"
   ]
  },
  {
   "cell_type": "markdown",
   "id": "22ac6447",
   "metadata": {},
   "source": [
    "### Query 6"
   ]
  },
  {
   "cell_type": "code",
   "execution_count": null,
   "id": "15a22fd1",
   "metadata": {},
   "outputs": [],
   "source": [
    "def write_query_to_file(query, outfile):\n",
    "    with open(outfile, 'w') as file:\n",
    "        file.write(query)"
   ]
  },
  {
   "cell_type": "code",
   "execution_count": null,
   "id": "92a84f4c",
   "metadata": {},
   "outputs": [],
   "source": [
    "from sqlalchemy import func\n",
    "\n",
    "latitude = 40.80737875669467\n",
    "longitude = -73.96253174434912\n",
    "radius_in_miles = 0.5\n",
    "radius_in_meters = radius_in_miles * 1609.34   \n",
    "\n",
    "center_point = func.ST_SetSRID(func.ST_MakePoint(longitude, latitude), 4326)\n",
    "\n",
    "sql_query = f\"\"\"\n",
    "    SELECT *\n",
    "    FROM tree_censuses tc\n",
    "    WHERE ST_DWithin(\n",
    "        ST_SetSRID(ST_MakePoint(tc.longitude, tc.latitude), 4326),\n",
    "        ST_SetSRID(ST_MakePoint({longitude}, {latitude}), 4326),\n",
    "        {radius_in_meters}\n",
    "    )\n",
    "\"\"\"\n",
    "\n",
    "sql_output = \"ID, Species, Health, Status, Coordinates\\n\"\n",
    "for tree in trees_within_radius:\n",
    "    tree_details = f\"{tree.id}, {tree.spc_common}, {tree.health}, {tree.status}, {tree.latitude}, {tree.longitude}\\n\"\n",
    "    sql_output += tree_details\n",
    "print(sql_output)\n",
    "\n",
    "# Save the SQL query to a .sql file\n",
    "file_path = ' immediate area.sql'  # Replace this with your desired file path\n",
    "with open(file_path, 'w') as file:\n",
    "    file.write(sql_query)"
   ]
  },
  {
   "cell_type": "markdown",
   "id": "75223ce5-6ab5-4613-b6af-fa8e33bcc7d5",
   "metadata": {},
   "source": [
    "## Part 4: Visualizing the Data"
   ]
  },
  {
   "cell_type": "markdown",
   "id": "b21fcfed-ddbb-4908-a60e-ed7cbc6d5b00",
   "metadata": {},
   "source": [
    "### Visualization 1"
   ]
  },
  {
   "cell_type": "code",
   "execution_count": 103,
   "id": "6f0e2cde-e43b-407b-ab93-ff85a2dba469",
   "metadata": {},
   "outputs": [],
   "source": [
    "import matplotlib.pyplot as plt\n",
    "import seaborn as sns\n",
    "\n",
    "def plot_visual_1(dataframe):\n",
    "    plt.figure(figsize=(15, 10))\n",
    "    \n",
    " \n",
    "    barplot = sns.barplot(x='complaint_type', y='num_complaints', data=dataframe, palette='viridis')\n",
    "\n",
    "   \n",
    "    for p in barplot.patches:\n",
    "        barplot.annotate(format(p.get_height(), '.0f'), \n",
    "                         (p.get_x() + p.get_width() / 2., p.get_height()), \n",
    "                         ha = 'center', va = 'center', \n",
    "                         xytext = (0, 10), \n",
    "                         textcoords = 'offset points')\n",
    "\n",
    "    \n",
    "    plt.title(\"Number of Complaints per Complaint Type\", fontsize=18)\n",
    "    plt.xlabel(\"Complaint Type\", fontsize=14)\n",
    "    plt.ylabel(\"Number of Complaints\", fontsize=14)\n",
    "\n",
    "  \n",
    "    plt.xticks(rotation=45, ha=\"right\", fontsize=12)\n",
    "    plt.yticks(fontsize=12)\n",
    "\n",
    "\n",
    "    plt.grid(True, which='both', linestyle='--', linewidth=0.5)\n",
    "    sns.set_style(\"whitegrid\")\n",
    "\n",
    "    plt.tight_layout()\n",
    "    plt.show()\n"
   ]
  },
  {
   "cell_type": "code",
   "execution_count": 55,
   "id": "ed80755f-d1e1-4e53-8ef8-f5295c59a3fe",
   "metadata": {},
   "outputs": [],
   "source": [
    "def get_data_for_visual_1():\n",
    "    \n",
    "    QUERY_1 = text(\"\"\"\n",
    "            SELECT complaint_type, COUNT(*) AS num_complaints\n",
    "            FROM nyc_311_services\n",
    "            WHERE created_date >= '2022-10-01' AND created_date <= '2023-09-30'\n",
    "            GROUP BY complaint_type\n",
    "            ORDER BY num_complaints DESC\n",
    "            LIMIT 3;\n",
    "        \"\"\")\n",
    "    with engine.connect() as conn:\n",
    "        result = conn.execute(QUERY_1)\n",
    "        dataframe = pd.DataFrame(result.fetchall(), columns=result.keys())\n",
    "    \n",
    "    return dataframe\n"
   ]
  },
  {
   "cell_type": "code",
   "execution_count": 102,
   "id": "f6a2632a-b516-4a6e-8b67-97116ab6fce4",
   "metadata": {},
   "outputs": [
    {
     "name": "stderr",
     "output_type": "stream",
     "text": [
      "/Users/chenruijia/anaconda3/lib/python3.11/site-packages/seaborn/_oldcore.py:1498: FutureWarning: is_categorical_dtype is deprecated and will be removed in a future version. Use isinstance(dtype, CategoricalDtype) instead\n",
      "  if pd.api.types.is_categorical_dtype(vector):\n",
      "/Users/chenruijia/anaconda3/lib/python3.11/site-packages/seaborn/_oldcore.py:1498: FutureWarning: is_categorical_dtype is deprecated and will be removed in a future version. Use isinstance(dtype, CategoricalDtype) instead\n",
      "  if pd.api.types.is_categorical_dtype(vector):\n",
      "/Users/chenruijia/anaconda3/lib/python3.11/site-packages/seaborn/_oldcore.py:1498: FutureWarning: is_categorical_dtype is deprecated and will be removed in a future version. Use isinstance(dtype, CategoricalDtype) instead\n",
      "  if pd.api.types.is_categorical_dtype(vector):\n"
     ]
    },
    {
     "data": {
      "image/png": "[encoded data removed]",
      "text/plain": [
       "<Figure size 1500x1000 with 1 Axes>"
      ]
     },
     "metadata": {},
     "output_type": "display_data"
    }
   ],
   "source": [
    "data_for_visualization = get_data_for_visual_1()\n",
    "plot_visual_1(data_for_visualization)"
   ]
  },
  {
   "cell_type": "markdown",
   "id": "845b9431",
   "metadata": {},
   "source": [
    "### Visualization 2"
   ]
  },
  {
   "cell_type": "code",
   "execution_count": 59,
   "id": "a6b3632f",
   "metadata": {},
   "outputs": [],
   "source": [
    "\n",
    "def plot_visual_2(dataframe):\n",
    "    plt.figure(figsize=(20, 10))\n",
    "    \n",
    "    barplot = sns.barplot(x='complaint_type', y='num_complaints', data=dataframe, palette='viridis')\n",
    "\n",
    "    for p in barplot.patches:\n",
    "        barplot.annotate(format(p.get_height(), '.0f'), \n",
    "                         (p.get_x() + p.get_width() / 2., p.get_height()), \n",
    "                         ha = 'center', va = 'center', \n",
    "                         xytext = (0, 10), \n",
    "                         textcoords = 'offset points')\n",
    "\n",
    "    plt.title(\"Top 10 Complaints in Zip Code 10027\", fontsize=18)\n",
    "    plt.xlabel(\"Complaint Type\", fontsize=14)\n",
    "    plt.ylabel(\"Number of Complaints\", fontsize=14)\n",
    "\n",
    "    plt.xticks(rotation=45, ha=\"right\", fontsize=12)\n",
    "    plt.yticks(fontsize=12)\n",
    "    plt.grid(True, which='both', linestyle='--', linewidth=0.5)\n",
    "    sns.set_style(\"whitegrid\")\n",
    "\n",
    "    plt.tight_layout()\n",
    "    plt.show()\n",
    "\n",
    "\n"
   ]
  },
  {
   "cell_type": "code",
   "execution_count": 60,
   "id": "c13f7790",
   "metadata": {},
   "outputs": [],
   "source": [
    "\n",
    "def get_data_for_visual_2():\n",
    "    QUERY = text(\"\"\"\n",
    "        SELECT complaint_type, COUNT(*) AS num_complaints\n",
    "        FROM nyc_311_services\n",
    "        WHERE created_date >= '2018-10-01' AND created_date <= '2023-09-30'\n",
    "        AND incident_zip = '10027'\n",
    "        GROUP BY complaint_type\n",
    "        ORDER BY num_complaints DESC\n",
    "        LIMIT 10;\n",
    "    \"\"\")\n",
    "    with engine.connect() as conn:\n",
    "        result = conn.execute(QUERY)\n",
    "        dataframe = pd.DataFrame(result.fetchall(), columns=result.keys())\n",
    "    \n",
    "    return dataframe\n",
    "\n"
   ]
  },
  {
   "cell_type": "code",
   "execution_count": 61,
   "id": "acaaf68d",
   "metadata": {},
   "outputs": [
    {
     "name": "stderr",
     "output_type": "stream",
     "text": [
      "/Users/chenruijia/anaconda3/lib/python3.11/site-packages/seaborn/_oldcore.py:1498: FutureWarning: is_categorical_dtype is deprecated and will be removed in a future version. Use isinstance(dtype, CategoricalDtype) instead\n",
      "  if pd.api.types.is_categorical_dtype(vector):\n",
      "/Users/chenruijia/anaconda3/lib/python3.11/site-packages/seaborn/_oldcore.py:1498: FutureWarning: is_categorical_dtype is deprecated and will be removed in a future version. Use isinstance(dtype, CategoricalDtype) instead\n",
      "  if pd.api.types.is_categorical_dtype(vector):\n",
      "/Users/chenruijia/anaconda3/lib/python3.11/site-packages/seaborn/_oldcore.py:1498: FutureWarning: is_categorical_dtype is deprecated and will be removed in a future version. Use isinstance(dtype, CategoricalDtype) instead\n",
      "  if pd.api.types.is_categorical_dtype(vector):\n"
     ]
    },
    {
     "data": {
      "image/png": "[encoded data removed]",
      "text/plain": [
       "<Figure size 2000x1000 with 1 Axes>"
      ]
     },
     "metadata": {},
     "output_type": "display_data"
    }
   ],
   "source": [
    "# Get data and plot\n",
    "data_for_visualization = get_data_for_visual_2()\n",
    "plot_visual_2(data_for_visualization)"
   ]
  },
  {
   "cell_type": "markdown",
   "id": "afc902f5",
   "metadata": {},
   "source": [
    "### Visualization 3"
   ]
  },
  {
   "cell_type": "code",
   "execution_count": null,
   "id": "7c316df0",
   "metadata": {},
   "outputs": [],
   "source": [
    "import matplotlib.pyplot as plt\n",
    "def plot_visual_3(dataframe):\n",
    "    figure, (ax1, ax2) = plt.subplots(2, 1, figsize=(20, 10), sharex=True)\n",
    "\n",
    "    ax1.scatter(dataframe['avg_rent'], dataframe['total_trees'])\n",
    "    ax1.set_title('Average Rent vs Number of Trees by Zip Code')\n",
    "    ax1.set_xlabel('Average Rent')\n",
    "    ax1.set_ylabel('Number of Trees')\n",
    "\n",
    "    ax2.scatter(dataframe['avg_rent'], dataframe['total_complaints'])\n",
    "    ax2.set_title('Average Rent vs Number of Complaints by Zip Code')\n",
    "    ax2.set_xlabel('Average Rent')\n",
    "    ax2.set_ylabel('Number of Complaints')\n",
    "    ax2.set_ylim(0, 2000)   \n",
    "\n",
    "    plt.tight_layout()  "
   ]
  },
  {
   "cell_type": "code",
   "execution_count": null,
   "id": "e6c0df09",
   "metadata": {},
   "outputs": [],
   "source": [
    "from sqlalchemy import create_engine, text\n",
    "def get_data_for_visual_3():\n",
    "    with engine.connect() as connection:\n",
    "    \n",
    "        tree_sql_query = text(\"\"\"\n",
    "            SELECT zipcode, COUNT(id) AS total_trees\n",
    "            FROM tree_censuses\n",
    "            GROUP BY zipcode\n",
    "        \"\"\")\n",
    "        tree_result = connection.execute(tree_sql_query)\n",
    "        df_trees = pd.DataFrame(tree_result.fetchall(), columns=['zipcode', 'total_trees'])\n",
    "        df_trees['zipcode'] = df_trees['zipcode'].astype(str)  # Convert to string\n",
    "\n",
    "        complaint_sql_query = text(\"\"\"\n",
    "            SELECT incident_zip, COUNT(unique_key) AS total_complaints\n",
    "            FROM nyc_311_services\n",
    "            GROUP BY incident_zip\n",
    "        \"\"\")\n",
    "        complaint_result = connection.execute(complaint_sql_query)\n",
    "        df_complaints = pd.DataFrame(complaint_result.fetchall(), columns=['incident_zip', 'total_complaints'])\n",
    "        df_complaints['incident_zip'] = df_complaints['incident_zip'].fillna('Unknown')\n",
    "        df_complaints['incident_zip'] = df_complaints['incident_zip'].astype(str).str.split('.').str[0]\n",
    " \n",
    "        rent_sql_query = text(\"\"\"\n",
    "            SELECT \"RegionName\", AVG(\"RentPrice\") AS avg_rent\n",
    "            FROM zillow_rents\n",
    "            WHERE \"Date\" >= '2015-01-01' AND \"Date\" <= '2023-09-30'\n",
    "            GROUP BY \"RegionName\"\n",
    "        \"\"\")\n",
    "        rent_result = connection.execute(rent_sql_query)\n",
    "        df_rent = pd.DataFrame(rent_result.fetchall(), columns=['RegionName', 'avg_rent'])\n",
    "        df_rent['RegionName'] = df_rent['RegionName'].astype(str)  \n",
    "\n",
    "        df_merged = df_rent.merge(df_trees, left_on='RegionName', right_on='zipcode', how='outer')\n",
    "        df_merged = df_merged.merge(df_complaints, left_on='RegionName', right_on='incident_zip', how='outer')\n",
    "\n",
    "    return df_merged\n",
    "\n",
    "df_for_visualization = get_data_for_visual_3()\n",
    "pd.set_option('display.max_rows', None)"
   ]
  },
  {
   "cell_type": "code",
   "execution_count": null,
   "id": "9a8746d7",
   "metadata": {},
   "outputs": [],
   "source": [
    "some_dataframe = get_data_for_visual_3()\n",
    "plot_visual_3(some_dataframe)"
   ]
  },
  {
   "cell_type": "markdown",
   "id": "25f9c210",
   "metadata": {},
   "source": [
    "### Visualization 4"
   ]
  },
  {
   "cell_type": "code",
   "execution_count": null,
   "id": "518987a5",
   "metadata": {},
   "outputs": [],
   "source": [
    "def plot_visual_4(dataframe):\n",
    "    max_rent = dataframe['avg_rent'].max()\n",
    "    rent_bins = np.arange(0, 10000, 1000)\n",
    "    rent_labels = [f\"${int(b)}-${int(b+1000)}\" for b in rent_bins[:-1]]\n",
    "\n",
    "    dataframe['RentBin'] = pd.cut(dataframe['avg_rent'], bins=rent_bins, labels=rent_labels, include_lowest=True)\n",
    "\n",
    "    figure, axes = plt.subplots(figsize=(20, 10))\n",
    "    dataframe.boxplot(column='total_complaints', by='RentBin', ax=axes)\n",
    "    \n",
    "    axes.set_title('311 Complaints vs Average Rent in September 2023')\n",
    "    axes.set_xlabel('Average Rent (in $1000 bins)')\n",
    "    axes.set_ylabel('Number of 311 Complaints')\n",
    "    plt.suptitle('')   \n",
    "    plt.xticks(rotation=45)\n",
    "    plt.show()\n"
   ]
  },
  {
   "cell_type": "code",
   "execution_count": null,
   "id": "45ea01ab",
   "metadata": {},
   "outputs": [],
   "source": [
    "from sqlalchemy import create_engine, text\n",
    "import pandas as pd\n",
    "\n",
    "def get_data_for_visual_4():\n",
    "    with engine.connect() as connection:\n",
    "        rent_sql_query = text(\"\"\"\n",
    "            SELECT \"RegionName\", AVG(\"RentPrice\") AS avg_rent\n",
    "            FROM zillow_rents\n",
    "            WHERE \"Date\" >= '2022-10-01' AND \"Date\" <= '2023-09-30'\n",
    "            GROUP BY \"RegionName\"\n",
    "        \"\"\")\n",
    "        rent_result = connection.execute(rent_sql_query)\n",
    "        df_rent = pd.DataFrame(rent_result.fetchall(), columns=['RegionName', 'avg_rent'])\n",
    "        df_rent['RegionName'] = df_rent['RegionName'].astype(str)\n",
    "\n",
    "        complaint_sql_query = text(\"\"\"\n",
    "            SELECT incident_zip, COUNT(unique_key) AS total_complaints\n",
    "            FROM nyc_311_services\n",
    "            WHERE created_date >= '2022-10-01' AND created_date <= '2023-09-30'\n",
    "            GROUP BY incident_zip\n",
    "        \"\"\")\n",
    "        complaint_result = connection.execute(complaint_sql_query)\n",
    "        df_complaints = pd.DataFrame(complaint_result.fetchall(), columns=['incident_zip', 'total_complaints'])\n",
    "        df_complaints['incident_zip'] = df_complaints['incident_zip'].fillna('Unknown')\n",
    "        df_complaints['incident_zip'] = df_complaints['incident_zip'].astype(str).str.split('.').str[0]\n",
    "\n",
    "        df_merged = df_rent.merge(df_complaints, left_on='RegionName', right_on='incident_zip', how='outer')\n",
    "\n",
    "    return df_merged\n",
    "\n",
    "df_for_visualization = get_data_for_visual_4()"
   ]
  },
  {
   "cell_type": "code",
   "execution_count": null,
   "id": "c02845f8",
   "metadata": {},
   "outputs": [],
   "source": [
    "df_for_visualization = get_data_for_visual_4()\n",
    "plot_visual_4(df_for_visualization)"
   ]
  },
  {
   "cell_type": "markdown",
   "id": "fbfb766b",
   "metadata": {},
   "source": [
    "### Visualization 5"
   ]
  },
  {
   "cell_type": "code",
   "execution_count": 62,
   "id": "de430f8a",
   "metadata": {},
   "outputs": [],
   "source": [
    "def plot_visual_5(gdf):\n",
    "    fig, ax = plt.subplots(figsize=(10, 10))\n",
    "    gdf.plot(ax=ax, markersize=5, color='blue', label='Incidents')\n",
    "    \n",
    "    ax.set_title('Geospatial Plot of 311 Incidents')\n",
    "    ax.set_xlabel('Longitude')\n",
    "    ax.set_ylabel('Latitude')\n",
    "\n",
    "    plt.show()\n"
   ]
  },
  {
   "cell_type": "code",
   "execution_count": 63,
   "id": "e674dece",
   "metadata": {},
   "outputs": [],
   "source": [
    "from sqlalchemy import text\n",
    "import geopandas as gpd\n",
    "from shapely.geometry import Point\n",
    "import matplotlib.pyplot as plt\n",
    "\n",
    "def get_data_for_visual_5(center_lat, center_long, radius_degree):\n",
    "    QUERY = text(f\"\"\"\n",
    "        SELECT latitude, longitude\n",
    "        FROM nyc_311_services\n",
    "        WHERE created_date >= '2023-01-01' AND created_date <= '2023-09-30'\n",
    "        AND (latitude BETWEEN {center_lat - radius_degree} AND {center_lat + radius_degree})\n",
    "        AND (longitude BETWEEN {center_long - radius_degree} AND {center_long + radius_degree});\n",
    "    \"\"\")\n",
    "    with engine.connect() as conn:\n",
    "        result = conn.execute(QUERY)\n",
    "        dataframe = pd.DataFrame(result.fetchall(), columns=result.keys())\n",
    "        \n",
    "    gdf = gpd.GeoDataFrame(\n",
    "        dataframe, \n",
    "        geometry=[Point(xy) for xy in zip(dataframe.longitude, dataframe.latitude)],\n",
    "        crs=\"EPSG:4326\"\n",
    "    )\n",
    "    return gdf\n"
   ]
  },
  {
   "cell_type": "code",
   "execution_count": 64,
   "id": "933b4bb2",
   "metadata": {},
   "outputs": [
    {
     "data": {
      "image/png": "[encoded data removed]",
      "text/plain": [
       "<Figure size 1000x1000 with 1 Axes>"
      ]
     },
     "metadata": {},
     "output_type": "display_data"
    }
   ],
   "source": [
    "center_lat = 40.80737875669467\n",
    "center_long = -73.96253174434912\n",
    "\n",
    "# Calculate the radius in degrees\n",
    "radius_km = 1\n",
    "radius_degree = radius_km / 111\n",
    "\n",
    "data_for_visualization = get_data_for_visual_5(center_lat, center_long, radius_degree)\n",
    "plot_visual_5(data_for_visualization)"
   ]
  },
  {
   "cell_type": "markdown",
   "id": "c8633888",
   "metadata": {},
   "source": [
    "### Visualization 6"
   ]
  },
  {
   "cell_type": "code",
   "execution_count": null,
   "id": "5574cd0d",
   "metadata": {},
   "outputs": [],
   "source": [
    "pip install basemap"
   ]
  },
  {
   "cell_type": "code",
   "execution_count": null,
   "id": "e142bae2",
   "metadata": {},
   "outputs": [],
   "source": [
    "from mpl_toolkits.basemap import Basemap\n",
    "\n",
    "def plot_visual_6(gdf_trees, gdf_complaints):\n",
    "    fig, ax = plt.subplots(figsize=(10, 10))\n",
    "\n",
    "    m = Basemap(projection='merc',\n",
    "                llcrnrlat=40.496044, urcrnrlat=40.915256,   \n",
    "                llcrnrlon=-74.255735, urcrnrlon=-73.700272,  \n",
    "                lat_ts=35, resolution='i', ax=ax)\n",
    "    \n",
    "    m.drawmapboundary(fill_color='#A6CAE0', linewidth=0)\n",
    "    m.fillcontinents(color='grey', alpha=0.7, lake_color='grey')\n",
    "    m.drawcoastlines(linewidth=0.1, color=\"white\")\n",
    " \n",
    "    x_tree, y_tree = m(gdf_trees.geometry.x, gdf_trees.geometry.y)\n",
    "    m.scatter(x_tree, y_tree, alpha=0.5, c='green', label='Tree Locations', s=10, marker='o')\n",
    "\n",
    "    x_complaint, y_complaint = m(gdf_complaints.geometry.x, gdf_complaints.geometry.y)\n",
    "    m.scatter(x_complaint, y_complaint, alpha=0.5, c='red', label='New Tree Requests', s=10, marker='x')\n",
    "\n",
    "    ax.set_title('NYC Tree Locations and New Tree Requests (2018-2023)')\n",
    "    plt.legend(loc='lower left', markerscale=2)\n",
    "\n",
    "    plt.show()"
   ]
  },
  {
   "cell_type": "code",
   "execution_count": null,
   "id": "57d45835",
   "metadata": {},
   "outputs": [],
   "source": [
    "from shapely.geometry import Point\n",
    "\n",
    "def get_data_for_visual_6():\n",
    "    with engine.connect() as connection:\n",
    "        tree_sql_query = text(\"\"\"\n",
    "            SELECT latitude, longitude\n",
    "            FROM tree_censuses\n",
    "        \"\"\")\n",
    "        tree_result = connection.execute(tree_sql_query)\n",
    "        df_trees = pd.DataFrame(tree_result.fetchall(), columns=['latitude', 'longitude'])\n",
    "        gdf_trees = gpd.GeoDataFrame(df_trees, geometry=gpd.points_from_xy(df_trees.longitude, df_trees.latitude))\n",
    "\n",
    "        complaint_sql_query = text(\"\"\"\n",
    "            SELECT latitude, longitude\n",
    "            FROM nyc_311_services\n",
    "            WHERE complaint_type = 'New Tree Request' AND\n",
    "                  created_date >= '2018-10-01' AND created_date <= '2023-09-30'\n",
    "        \"\"\")\n",
    "        complaint_result = connection.execute(complaint_sql_query)\n",
    "        df_complaints = pd.DataFrame(complaint_result.fetchall(), columns=['latitude', 'longitude'])\n",
    "        gdf_complaints = gpd.GeoDataFrame(df_complaints, geometry=gpd.points_from_xy(df_complaints.longitude, df_complaints.latitude))\n",
    "\n",
    "    return gdf_trees, gdf_complaints"
   ]
  },
  {
   "cell_type": "code",
   "execution_count": null,
   "id": "2deb2cff",
   "metadata": {},
   "outputs": [],
   "source": [
    "gdf_trees, gdf_complaints = get_data_for_visual_6()\n",
    "plot_visual_6(gdf_trees, gdf_complaints)"
   ]
  }
 ],
 "metadata": {
  "kernelspec": {
   "display_name": "Python 3 (ipykernel)",
   "language": "python",
   "name": "python3"
  },
  "language_info": {
   "codemirror_mode": {
    "name": "ipython",
    "version": 3
   },
   "file_extension": ".py",
   "mimetype": "text/x-python",
   "name": "python",
   "nbconvert_exporter": "python",
   "pygments_lexer": "ipython3",
   "version": "3.11.5"
  }
 },
 "nbformat": 4,
 "nbformat_minor": 5
}
